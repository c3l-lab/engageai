{
 "cells": [
  {
   "cell_type": "code",
   "execution_count": 1,
   "id": "0640c98d",
   "metadata": {},
   "outputs": [],
   "source": [
    "import os\n",
    "import sys\n",
    "import pandas as pd"
   ]
  },
  {
   "cell_type": "code",
   "execution_count": 2,
   "id": "38dfa472",
   "metadata": {},
   "outputs": [],
   "source": [
    "\n",
    "import pandas as pd\n",
    "import matplotlib.pyplot as plt\n",
    "\n",
    "\n",
    "import os\n",
    "import sys\n",
    "import pandas as pd\n",
    "\n",
    "def read_csv_from_module(base_dir, csv_name):\n",
    "\n",
    "    # Construct the full path to the CSV file\n",
    "    csv_path = os.path.join(base_dir, '..', 'download_data', csv_name)\n",
    "    csv_path = os.path.abspath(csv_path)\n",
    "\n",
    "    # Read and return the DataFrame\n",
    "    return pd.read_csv(csv_path)\n",
    "\n",
    "def summarize_final_grades_by_term(df, term_codes):\n",
    "\n",
    "    print(\"Unique term codes:\")\n",
    "    print(df['term_code'].unique())\n",
    "\n",
    "    # Print count of non-null entries in each column\n",
    "    print(\"\\nCounts of non-null entries in each column:\")\n",
    "    print(df.count())\n",
    "\n",
    "    # Count and print unique student IDs (userids) per term\n",
    "    print(\"\\nUnique student count per term code:\")\n",
    "    for term in term_codes:\n",
    "        unique_student_count = df[df['term_code'] == term]['userid'].nunique()\n",
    "        print(f\"Term_code {term} in course 163601 has {unique_student_count} unique students\")\n",
    "\n",
    "\n",
    "\n",
    "# def filter_by_column_value(df, col_name, value):\n",
    "\n",
    "#     return df[df[col_name] == value]\n",
    "\n",
    "def filter_by_column_value(df, col_name, value):\n",
    "    return df[df[col_name] == int(value)]\n",
    "\n",
    "\n",
    "def extract_user_info(df, col_userid, col_username, term_code):\n",
    "\n",
    "    df=df[df['term_code']== term_code]\n",
    "    print(df['term_code'].unique())\n",
    "    print(len(df))\n",
    "    unique_user_ids = df[col_userid].unique()\n",
    "    unique_usernames = df[col_username].unique()\n",
    "    unique_user_count = df[col_userid].nunique()\n",
    "    \n",
    "    print(f\"Term code = {term_code} having userid includes {unique_user_count} students\")\n",
    "    print(f\"Term code = {term_code} having userid includes {unique_user_ids}\")\n",
    "    print(f\"Term code = {term_code} having username includes: {unique_usernames}\")\n",
    "\n",
    "    return unique_user_ids, unique_usernames, unique_user_count\n",
    "\n",
    "\n"
   ]
  },
  {
   "cell_type": "code",
   "execution_count": 3,
   "id": "50de6b93",
   "metadata": {},
   "outputs": [
    {
     "name": "stdout",
     "output_type": "stream",
     "text": [
      "1631\n"
     ]
    }
   ],
   "source": [
    "\n",
    "# Get the current directory (assessment_data)\n",
    "# current_dir = os.path.dirname(__file__)\n",
    "current_dir = '/Users/pei-yiliu/EngageAI/module/research_analysis/assessment_data'\n",
    "\n",
    "# Add the parent directory of current_dir (research_analysis) to sys.path\n",
    "parent_dir = os.path.abspath(os.path.join(current_dir))\n",
    "# head = os.path.split(parent_dir)[0]\n",
    "sys.path.append(os.path.split(parent_dir)[0])\n",
    "\n",
    "# ---- Load CSV Data ----\n",
    "csv_path = os.path.join(current_dir, '..', 'download_data')\n",
    "csv_path = os.path.abspath(csv_path)  # make it absolute path\n",
    "\n",
    "grade_df = read_csv_from_module(csv_path,'allterm_course163601_finalgrade.csv')\n",
    "log_df = read_csv_from_module(csv_path,'term2405_course3547_alllog.csv')\n",
    "\n",
    "\n",
    "# ---- Filter final grade data for term 2405 ----\n",
    "term_code = 2405\n",
    "course_id = 163601\n",
    "course=3547\n",
    "\n",
    "term_grade_df = filter_by_column_value(grade_df, col_name='term_code', value= term_code)\n",
    "print(len(term_grade_df))\n",
    "term_finalgrade_df = filter_by_column_value(term_grade_df, col_name='course_id', value=course_id )\n"
   ]
  },
  {
   "cell_type": "code",
   "execution_count": 7,
   "id": "c165b51c",
   "metadata": {},
   "outputs": [
    {
     "data": {
      "text/plain": [
       "1631"
      ]
     },
     "execution_count": 7,
     "metadata": {},
     "output_type": "execute_result"
    }
   ],
   "source": [
    "len(term_grade_df)"
   ]
  },
  {
   "cell_type": "code",
   "execution_count": 8,
   "id": "019cf034",
   "metadata": {},
   "outputs": [
    {
     "data": {
      "text/plain": [
       "233"
      ]
     },
     "execution_count": 8,
     "metadata": {},
     "output_type": "execute_result"
    }
   ],
   "source": [
    "df_unique = term_grade_df.drop_duplicates()\n",
    "len(df_unique)"
   ]
  },
  {
   "cell_type": "code",
   "execution_count": null,
   "id": "372b0d51",
   "metadata": {},
   "outputs": [],
   "source": []
  }
 ],
 "metadata": {
  "kernelspec": {
   "display_name": "Python 3",
   "language": "python",
   "name": "python3"
  },
  "language_info": {
   "codemirror_mode": {
    "name": "ipython",
    "version": 3
   },
   "file_extension": ".py",
   "mimetype": "text/x-python",
   "name": "python",
   "nbconvert_exporter": "python",
   "pygments_lexer": "ipython3",
   "version": "3.11.10"
  }
 },
 "nbformat": 4,
 "nbformat_minor": 5
}
